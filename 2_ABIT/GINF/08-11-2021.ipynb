{
 "cells": [
  {
   "cell_type": "markdown",
   "metadata": {},
   "source": [
    "#Unterricht\n",
    " Break ist das gleiche wie der retirn"
   ]
  },
  {
   "cell_type": "code",
   "execution_count": 1,
   "metadata": {},
   "outputs": [],
   "source": [
    "def getFloat():\n",
    "    while True: \n",
    "        try:\n",
    "            x = float (input('x = '))\n",
    "            return x\n",
    "        except:\n",
    "            print('Eingabe falsch, bitte noch einmal eingeben!')\n",
    "\n",
    "x = getFloat()\n",
    "print(x)"
   ]
  }
 ],
 "metadata": {
  "interpreter": {
   "hash": "497aaa5cf2df58865cc1130b0f092b7e63a2e282c2bb7e6927e789b1357cb278"
  },
  "kernelspec": {
   "display_name": "Python 3.10.0 64-bit",
   "name": "python3"
  },
  "language_info": {
   "codemirror_mode": {
    "name": "ipython",
    "version": 3
   },
   "file_extension": ".py",
   "mimetype": "text/x-python",
   "name": "python",
   "nbconvert_exporter": "python",
   "pygments_lexer": "ipython3",
   "version": "3.10.0"
  },
  "orig_nbformat": 4
 },
 "nbformat": 4,
 "nbformat_minor": 2
}
